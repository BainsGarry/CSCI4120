{
 "cells": [
  {
   "cell_type": "markdown",
   "metadata": {},
   "source": [
    "# Homework 5 RF Accuracy Improvement\n",
    "\n",
    "This assignment is inspired by examples of Shan-Hung Wu from National Tsing Hua University.\n",
    "\n",
    "Requirement: improve the accuracy per feature of the following code from 0.03 up to at least 0.45 and accuracy should be more than 0.92\n",
    "\n",
    "Here are three hints:\n",
    "\n",
    "    You can improve the ratio by picking out or \"creating\" several features.\n",
    "    Tune hyperparameters\n",
    "    The ratio can be improved from 0.03 up to 0.47."
   ]
  },
  {
   "cell_type": "code",
   "execution_count": 7,
   "metadata": {},
   "outputs": [
    {
     "name": "stdout",
     "output_type": "stream",
     "text": [
      "(569, 30)\n",
      "Selected features data shape: (569, 18)\n",
      "Starting grid search...\n",
      "Grid search completed.\n",
      "Average accuracy: 0.9613258810743673\n",
      "Average accuracy per feature: 0.05340699339302041\n"
     ]
    }
   ],
   "source": [
    "from sklearn.model_selection import train_test_split, GridSearchCV, KFold\n",
    "from sklearn.datasets import load_breast_cancer\n",
    "from sklearn.ensemble import RandomForestClassifier\n",
    "from sklearn.feature_selection import SelectFromModel\n",
    "\n",
    "# load the breast_cancer dataset\n",
    "init_data = load_breast_cancer()\n",
    "(X, y) = load_breast_cancer(return_X_y=True)\n",
    "\n",
    "print(X.shape)\n",
    "\n",
    "# Feature selection\n",
    "rf_for_feature_selection = RandomForestClassifier(random_state=42)\n",
    "rf_for_feature_selection.fit(X, y)\n",
    "sfm = SelectFromModel(rf_for_feature_selection, threshold=0.01)\n",
    "sfm.fit(X, y)\n",
    "X_selected = sfm.transform(X)\n",
    "print(\"Selected features data shape:\", X_selected.shape)\n",
    "\n",
    "# 5 fold cross validation\n",
    "kf = KFold(n_splits=5, shuffle=True, random_state=42)\n",
    "\n",
    "# Hyperparameter tuning\n",
    "param_grid = {\n",
    "    'n_estimators': [100, 150],  # Reduced range\n",
    "    'max_depth': [None, 30],     # Reduced range\n",
    "    'min_samples_split': [2],\n",
    "    'criterion': ['gini']\n",
    "}\n",
    "grid_search = GridSearchCV(\n",
    "    estimator=RandomForestClassifier(random_state=42),\n",
    "    param_grid=param_grid,\n",
    "    cv=kf,\n",
    "    scoring='accuracy'\n",
    ")\n",
    "\n",
    "print(\"Starting grid search...\")\n",
    "grid_search.fit(X_selected, y)\n",
    "print(\"Grid search completed.\")\n",
    "\n",
    "# Average accuracy score\n",
    "average_accuracy = grid_search.best_score_\n",
    "print(\"Average accuracy:\", average_accuracy)\n",
    "\n",
    "# Average accuracy per feature\n",
    "average_accuracy_per_feature = average_accuracy / X_selected.shape[1]\n",
    "print(\"Average accuracy per feature:\", average_accuracy_per_feature)"
   ]
  },
  {
   "cell_type": "code",
   "execution_count": null,
   "metadata": {},
   "outputs": [],
   "source": []
  }
 ],
 "metadata": {
  "kernelspec": {
   "display_name": "Python 3 (ipykernel)",
   "language": "python",
   "name": "python3"
  },
  "language_info": {
   "codemirror_mode": {
    "name": "ipython",
    "version": 3
   },
   "file_extension": ".py",
   "mimetype": "text/x-python",
   "name": "python",
   "nbconvert_exporter": "python",
   "pygments_lexer": "ipython3",
   "version": "3.8.10"
  }
 },
 "nbformat": 4,
 "nbformat_minor": 4
}
